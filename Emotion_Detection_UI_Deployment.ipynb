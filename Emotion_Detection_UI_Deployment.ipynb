{
  "nbformat": 4,
  "nbformat_minor": 0,
  "metadata": {
    "colab": {
      "provenance": [],
      "gpuType": "T4"
    },
    "kernelspec": {
      "name": "python3",
      "display_name": "Python 3"
    },
    "language_info": {
      "name": "python"
    },
    "accelerator": "GPU"
  },
  "cells": [
    {
      "cell_type": "markdown",
      "source": [
        "**Step 1: Install required libraries**"
      ],
      "metadata": {
        "id": "LX_Te1yzltf-"
      }
    },
    {
      "cell_type": "code",
      "source": [
        "!pip install transformers gradio --quiet"
      ],
      "metadata": {
        "id": "Kp_NRRwslz-3"
      },
      "execution_count": null,
      "outputs": []
    },
    {
      "cell_type": "markdown",
      "source": [
        "**Step 2: Upload and Unzip Fine-Tuned Model**"
      ],
      "metadata": {
        "id": "GJ-6vbOsmHTi"
      }
    },
    {
      "cell_type": "code",
      "source": [
        "from google.colab import files\n",
        "import zipfile\n",
        "import os\n",
        "\n",
        "# Uploading your zip file\n",
        "uploaded = files.upload()\n",
        "\n",
        "# Saving the filename\n",
        "zip_filename = list(uploaded.keys())[0]\n",
        "\n",
        "# Folder to extract the model\n",
        "extract_folder = \"emotion_detection_model\"\n",
        "\n",
        "# Extracting zip\n",
        "with zipfile.ZipFile(zip_filename, 'r') as zip_ref:\n",
        "    zip_ref.extractall(extract_folder)\n",
        "\n",
        "print(\"Extracted files/folders:\", os.listdir(extract_folder))\n",
        "\n",
        "model_folder = extract_folder\n"
      ],
      "metadata": {
        "id": "i_aJh0sOntRU",
        "colab": {
          "base_uri": "https://localhost:8080/",
          "height": 90
        },
        "outputId": "2d69e12c-b3fb-4909-c1ca-6e0960a02d38"
      },
      "execution_count": 3,
      "outputs": [
        {
          "output_type": "display_data",
          "data": {
            "text/plain": [
              "<IPython.core.display.HTML object>"
            ],
            "text/html": [
              "\n",
              "     <input type=\"file\" id=\"files-e97bbc73-02c8-43ba-bbc4-12deeeab1ebb\" name=\"files[]\" multiple disabled\n",
              "        style=\"border:none\" />\n",
              "     <output id=\"result-e97bbc73-02c8-43ba-bbc4-12deeeab1ebb\">\n",
              "      Upload widget is only available when the cell has been executed in the\n",
              "      current browser session. Please rerun this cell to enable.\n",
              "      </output>\n",
              "      <script>// Copyright 2017 Google LLC\n",
              "//\n",
              "// Licensed under the Apache License, Version 2.0 (the \"License\");\n",
              "// you may not use this file except in compliance with the License.\n",
              "// You may obtain a copy of the License at\n",
              "//\n",
              "//      http://www.apache.org/licenses/LICENSE-2.0\n",
              "//\n",
              "// Unless required by applicable law or agreed to in writing, software\n",
              "// distributed under the License is distributed on an \"AS IS\" BASIS,\n",
              "// WITHOUT WARRANTIES OR CONDITIONS OF ANY KIND, either express or implied.\n",
              "// See the License for the specific language governing permissions and\n",
              "// limitations under the License.\n",
              "\n",
              "/**\n",
              " * @fileoverview Helpers for google.colab Python module.\n",
              " */\n",
              "(function(scope) {\n",
              "function span(text, styleAttributes = {}) {\n",
              "  const element = document.createElement('span');\n",
              "  element.textContent = text;\n",
              "  for (const key of Object.keys(styleAttributes)) {\n",
              "    element.style[key] = styleAttributes[key];\n",
              "  }\n",
              "  return element;\n",
              "}\n",
              "\n",
              "// Max number of bytes which will be uploaded at a time.\n",
              "const MAX_PAYLOAD_SIZE = 100 * 1024;\n",
              "\n",
              "function _uploadFiles(inputId, outputId) {\n",
              "  const steps = uploadFilesStep(inputId, outputId);\n",
              "  const outputElement = document.getElementById(outputId);\n",
              "  // Cache steps on the outputElement to make it available for the next call\n",
              "  // to uploadFilesContinue from Python.\n",
              "  outputElement.steps = steps;\n",
              "\n",
              "  return _uploadFilesContinue(outputId);\n",
              "}\n",
              "\n",
              "// This is roughly an async generator (not supported in the browser yet),\n",
              "// where there are multiple asynchronous steps and the Python side is going\n",
              "// to poll for completion of each step.\n",
              "// This uses a Promise to block the python side on completion of each step,\n",
              "// then passes the result of the previous step as the input to the next step.\n",
              "function _uploadFilesContinue(outputId) {\n",
              "  const outputElement = document.getElementById(outputId);\n",
              "  const steps = outputElement.steps;\n",
              "\n",
              "  const next = steps.next(outputElement.lastPromiseValue);\n",
              "  return Promise.resolve(next.value.promise).then((value) => {\n",
              "    // Cache the last promise value to make it available to the next\n",
              "    // step of the generator.\n",
              "    outputElement.lastPromiseValue = value;\n",
              "    return next.value.response;\n",
              "  });\n",
              "}\n",
              "\n",
              "/**\n",
              " * Generator function which is called between each async step of the upload\n",
              " * process.\n",
              " * @param {string} inputId Element ID of the input file picker element.\n",
              " * @param {string} outputId Element ID of the output display.\n",
              " * @return {!Iterable<!Object>} Iterable of next steps.\n",
              " */\n",
              "function* uploadFilesStep(inputId, outputId) {\n",
              "  const inputElement = document.getElementById(inputId);\n",
              "  inputElement.disabled = false;\n",
              "\n",
              "  const outputElement = document.getElementById(outputId);\n",
              "  outputElement.innerHTML = '';\n",
              "\n",
              "  const pickedPromise = new Promise((resolve) => {\n",
              "    inputElement.addEventListener('change', (e) => {\n",
              "      resolve(e.target.files);\n",
              "    });\n",
              "  });\n",
              "\n",
              "  const cancel = document.createElement('button');\n",
              "  inputElement.parentElement.appendChild(cancel);\n",
              "  cancel.textContent = 'Cancel upload';\n",
              "  const cancelPromise = new Promise((resolve) => {\n",
              "    cancel.onclick = () => {\n",
              "      resolve(null);\n",
              "    };\n",
              "  });\n",
              "\n",
              "  // Wait for the user to pick the files.\n",
              "  const files = yield {\n",
              "    promise: Promise.race([pickedPromise, cancelPromise]),\n",
              "    response: {\n",
              "      action: 'starting',\n",
              "    }\n",
              "  };\n",
              "\n",
              "  cancel.remove();\n",
              "\n",
              "  // Disable the input element since further picks are not allowed.\n",
              "  inputElement.disabled = true;\n",
              "\n",
              "  if (!files) {\n",
              "    return {\n",
              "      response: {\n",
              "        action: 'complete',\n",
              "      }\n",
              "    };\n",
              "  }\n",
              "\n",
              "  for (const file of files) {\n",
              "    const li = document.createElement('li');\n",
              "    li.append(span(file.name, {fontWeight: 'bold'}));\n",
              "    li.append(span(\n",
              "        `(${file.type || 'n/a'}) - ${file.size} bytes, ` +\n",
              "        `last modified: ${\n",
              "            file.lastModifiedDate ? file.lastModifiedDate.toLocaleDateString() :\n",
              "                                    'n/a'} - `));\n",
              "    const percent = span('0% done');\n",
              "    li.appendChild(percent);\n",
              "\n",
              "    outputElement.appendChild(li);\n",
              "\n",
              "    const fileDataPromise = new Promise((resolve) => {\n",
              "      const reader = new FileReader();\n",
              "      reader.onload = (e) => {\n",
              "        resolve(e.target.result);\n",
              "      };\n",
              "      reader.readAsArrayBuffer(file);\n",
              "    });\n",
              "    // Wait for the data to be ready.\n",
              "    let fileData = yield {\n",
              "      promise: fileDataPromise,\n",
              "      response: {\n",
              "        action: 'continue',\n",
              "      }\n",
              "    };\n",
              "\n",
              "    // Use a chunked sending to avoid message size limits. See b/62115660.\n",
              "    let position = 0;\n",
              "    do {\n",
              "      const length = Math.min(fileData.byteLength - position, MAX_PAYLOAD_SIZE);\n",
              "      const chunk = new Uint8Array(fileData, position, length);\n",
              "      position += length;\n",
              "\n",
              "      const base64 = btoa(String.fromCharCode.apply(null, chunk));\n",
              "      yield {\n",
              "        response: {\n",
              "          action: 'append',\n",
              "          file: file.name,\n",
              "          data: base64,\n",
              "        },\n",
              "      };\n",
              "\n",
              "      let percentDone = fileData.byteLength === 0 ?\n",
              "          100 :\n",
              "          Math.round((position / fileData.byteLength) * 100);\n",
              "      percent.textContent = `${percentDone}% done`;\n",
              "\n",
              "    } while (position < fileData.byteLength);\n",
              "  }\n",
              "\n",
              "  // All done.\n",
              "  yield {\n",
              "    response: {\n",
              "      action: 'complete',\n",
              "    }\n",
              "  };\n",
              "}\n",
              "\n",
              "scope.google = scope.google || {};\n",
              "scope.google.colab = scope.google.colab || {};\n",
              "scope.google.colab._files = {\n",
              "  _uploadFiles,\n",
              "  _uploadFilesContinue,\n",
              "};\n",
              "})(self);\n",
              "</script> "
            ]
          },
          "metadata": {}
        },
        {
          "output_type": "stream",
          "name": "stdout",
          "text": [
            "Saving Goemotions-distilbert-model - Fine-tuning.zip to Goemotions-distilbert-model - Fine-tuning (1).zip\n",
            "Extracted files/folders: ['model.safetensors', 'training_args.bin', 'special_tokens_map.json', 'tokenizer_config.json', 'vocab.txt', 'config.json']\n"
          ]
        }
      ]
    },
    {
      "cell_type": "markdown",
      "source": [
        "**Step 3: Load Model and Tokenizer**"
      ],
      "metadata": {
        "id": "0tlmx8sGyVBG"
      }
    },
    {
      "cell_type": "code",
      "source": [
        "from transformers import DistilBertTokenizer, DistilBertForSequenceClassification, pipeline\n",
        "\n",
        "# Loading tokenizer and model from extracted folder\n",
        "tokenizer = DistilBertTokenizer.from_pretrained(model_folder)\n",
        "model = DistilBertForSequenceClassification.from_pretrained(model_folder)\n",
        "\n",
        "# Multi-label classification pipeline with sigmoid\n",
        "emotion_classifier = pipeline(\n",
        "    \"text-classification\",\n",
        "    model=model,\n",
        "    tokenizer=tokenizer,\n",
        "    return_all_scores=True\n",
        ")"
      ],
      "metadata": {
        "colab": {
          "base_uri": "https://localhost:8080/"
        },
        "id": "fllLKQk2ooWa",
        "outputId": "76ce6806-5f67-4993-ef1c-ea0c2a03d921"
      },
      "execution_count": 4,
      "outputs": [
        {
          "output_type": "stream",
          "name": "stderr",
          "text": [
            "Device set to use cpu\n",
            "/usr/local/lib/python3.12/dist-packages/transformers/pipelines/text_classification.py:111: UserWarning: `return_all_scores` is now deprecated,  if want a similar functionality use `top_k=None` instead of `return_all_scores=True` or `top_k=1` instead of `return_all_scores=False`.\n",
            "  warnings.warn(\n"
          ]
        }
      ]
    },
    {
      "cell_type": "markdown",
      "source": [
        "**Step 4: Define label mapping**"
      ],
      "metadata": {
        "id": "NCj-L0S0kWAz"
      }
    },
    {
      "cell_type": "code",
      "source": [
        "# GoEmotions labels\n",
        "id2label = {\n",
        "    0: \"admiration\",\n",
        "    1: \"amusement\",\n",
        "    2: \"anger\",\n",
        "    3: \"annoyance\",\n",
        "    4: \"approval\",\n",
        "    5: \"caring\",\n",
        "    6: \"confusion\",\n",
        "    7: \"curiosity\",\n",
        "    8: \"desire\",\n",
        "    9: \"disappointment\",\n",
        "    10: \"disapproval\",\n",
        "    11: \"disgust\",\n",
        "    12: \"embarrassment\",\n",
        "    13: \"excitement\",\n",
        "    14: \"fear\",\n",
        "    15: \"gratitude\",\n",
        "    16: \"grief\",\n",
        "    17: \"joy\",\n",
        "    18: \"love\",\n",
        "    19: \"nervousness\",\n",
        "    20: \"optimism\",\n",
        "    21: \"pride\",\n",
        "    22: \"realization\",\n",
        "    23: \"relief\",\n",
        "    24: \"remorse\",\n",
        "    25: \"sadness\",\n",
        "    26: \"surprise\",\n",
        "    27: \"neutral\"\n",
        "}\n"
      ],
      "metadata": {
        "id": "r6xEU3nkkYZo"
      },
      "execution_count": 5,
      "outputs": []
    },
    {
      "cell_type": "markdown",
      "source": [
        "**Step 5: Define Prediction Function**"
      ],
      "metadata": {
        "id": "hVocD1M6n1gn"
      }
    },
    {
      "cell_type": "code",
      "source": [
        "# Imports\n",
        "import torch\n",
        "import torch.nn.functional as F\n",
        "from transformers import DistilBertTokenizer, DistilBertForSequenceClassification\n",
        "\n",
        "# Prediction function\n",
        "def predict_emotion(text, top_k=3):\n",
        "    inputs = tokenizer(text, return_tensors=\"pt\", truncation=True, padding=True)\n",
        "    with torch.no_grad():\n",
        "        outputs = model(**inputs)\n",
        "\n",
        "    probs = F.softmax(outputs.logits, dim=-1)[0]\n",
        "    top_probs, top_ids = torch.topk(probs, k=top_k)\n",
        "\n",
        "    results = []\n",
        "    for i in range(top_k):\n",
        "        label = id2label[int(top_ids[i])]\n",
        "        confidence = round(float(top_probs[i]) * 100, 2)\n",
        "        results.append((label, confidence))\n",
        "\n",
        "    return results\n"
      ],
      "metadata": {
        "id": "XJNy3TzLleHS"
      },
      "execution_count": 8,
      "outputs": []
    },
    {
      "cell_type": "markdown",
      "source": [
        "**Step 6: Quick Test**"
      ],
      "metadata": {
        "id": "_ZRQOZyEopqQ"
      }
    },
    {
      "cell_type": "code",
      "source": [
        "test_text = \"I am feeling happy\"\n",
        "print(\"Input:\", test_text)\n",
        "print(\"Predictions:\", predict_emotion(test_text))\n"
      ],
      "metadata": {
        "colab": {
          "base_uri": "https://localhost:8080/"
        },
        "id": "bdd5HD48oqtl",
        "outputId": "aa19d0a1-a839-4f8e-8af7-1dfa567d80f8"
      },
      "execution_count": 9,
      "outputs": [
        {
          "output_type": "stream",
          "name": "stdout",
          "text": [
            "Input: I am feeling happy\n",
            "Predictions: [('joy', 91.96), ('excitement', 1.96), ('approval', 0.91)]\n"
          ]
        }
      ]
    },
    {
      "cell_type": "markdown",
      "source": [
        "**Step 7: Launch Gradio UI**"
      ],
      "metadata": {
        "id": "64PuW-t9ofaX"
      }
    },
    {
      "cell_type": "code",
      "source": [
        "import gradio as gr\n",
        "\n",
        "def gradio_predict(text):\n",
        "    predictions = predict_emotion(text, top_k=3)  # get top 3\n",
        "    results = {label: float(score) for label, score in predictions}\n",
        "    return results\n",
        "\n",
        "# Launching the Gradio interface\n",
        "demo = gr.Interface(\n",
        "    fn=gradio_predict,\n",
        "    inputs=gr.Textbox(lines=2, placeholder=\"Type your text here...\"),\n",
        "    outputs=gr.Label(num_top_classes=3),\n",
        "    title=\"Emotion Detection UI\",\n",
        "    description=\"Enter text and get the top 3 predicted emotions with confidence scores.\"\n",
        ")\n",
        "\n",
        "demo.launch(share=True)\n"
      ],
      "metadata": {
        "id": "nCuw-pJuobCy",
        "colab": {
          "base_uri": "https://localhost:8080/",
          "height": 611
        },
        "outputId": "1848377a-d5a8-4e3b-d996-5e82b63b7ff6"
      },
      "execution_count": 10,
      "outputs": [
        {
          "output_type": "stream",
          "name": "stdout",
          "text": [
            "Colab notebook detected. To show errors in colab notebook, set debug=True in launch()\n",
            "* Running on public URL: https://1bcd60d0e377a1cd42.gradio.live\n",
            "\n",
            "This share link expires in 1 week. For free permanent hosting and GPU upgrades, run `gradio deploy` from the terminal in the working directory to deploy to Hugging Face Spaces (https://huggingface.co/spaces)\n"
          ]
        },
        {
          "output_type": "display_data",
          "data": {
            "text/plain": [
              "<IPython.core.display.HTML object>"
            ],
            "text/html": [
              "<div><iframe src=\"https://1bcd60d0e377a1cd42.gradio.live\" width=\"100%\" height=\"500\" allow=\"autoplay; camera; microphone; clipboard-read; clipboard-write;\" frameborder=\"0\" allowfullscreen></iframe></div>"
            ]
          },
          "metadata": {}
        },
        {
          "output_type": "execute_result",
          "data": {
            "text/plain": []
          },
          "metadata": {},
          "execution_count": 10
        }
      ]
    },
    {
      "cell_type": "markdown",
      "source": [
        "**Step 8: Visualization of Top 3 Predictions**"
      ],
      "metadata": {
        "id": "2ftaCPI5r15Q"
      }
    },
    {
      "cell_type": "code",
      "source": [
        "import torch\n",
        "import matplotlib.pyplot as plt\n",
        "\n",
        "# Defining GoEmotions label list (28 emotions + neutral)\n",
        "emotion_labels = [\n",
        "    'admiration','amusement','anger','annoyance','approval','caring','confusion',\n",
        "    'curiosity','desire','disappointment','disapproval','disgust','embarrassment',\n",
        "    'excitement','fear','gratitude','grief','joy','love','nervousness','optimism',\n",
        "    'pride','realization','relief','remorse','sadness','surprise','neutral'\n",
        "]\n",
        "\n",
        "def predict_top3(text):\n",
        "    \"\"\"Return top-3 (label, percent) pairs and full probability vector.\"\"\"\n",
        "    # Tokenize\n",
        "    inputs = tokenizer(text, return_tensors=\"pt\", truncation=True, padding=True, max_length=128)\n",
        "\n",
        "    # Forward pass (multi-label classification → sigmoid)\n",
        "    model.eval()\n",
        "    with torch.no_grad():\n",
        "        outputs = model(**inputs)\n",
        "        probs = torch.sigmoid(outputs.logits).cpu().numpy().ravel()\n",
        "\n",
        "    # Getting top-3\n",
        "    top_idx = probs.argsort()[-3:][::-1]\n",
        "    top_labels = [emotion_labels[i] for i in top_idx]\n",
        "    top_scores = [float(probs[i] * 100.0) for i in top_idx]\n",
        "    return list(zip(top_labels, top_scores))\n",
        "\n",
        "def show_top3_bar(text):\n",
        "    \"\"\"Print and plot the top-3 predictions.\"\"\"\n",
        "    top3 = predict_top3(text)\n",
        "\n",
        "    print(\"Input:\", text)\n",
        "    for lbl, pct in top3:\n",
        "        print(f\"- {lbl}: {pct:.1f}%\")\n",
        "\n",
        "    labels = [lbl for lbl, _ in top3]\n",
        "    scores = [pct for _, pct in top3]\n",
        "\n",
        "    plt.figure(figsize=(4.5, 3.2))\n",
        "    bars = plt.bar(labels, scores, color=\"skyblue\")\n",
        "    plt.ylim(0, 100)\n",
        "    plt.ylabel(\"Confidence (%)\")\n",
        "    plt.title(\"Top-3 Predicted Emotions\")\n",
        "\n",
        "    # Adding labels above bars\n",
        "    for b, s in zip(bars, scores):\n",
        "        plt.text(b.get_x() + b.get_width()/2, b.get_height() + 1,\n",
        "                 f\"{s:.1f}%\", ha='center', va='bottom', fontsize=9)\n",
        "    plt.tight_layout()\n",
        "    plt.show()\n",
        "\n",
        "# ---- Example run ----\n",
        "test_text = \"I am feeling happy and grateful today.\"\n",
        "show_top3_bar(test_text)\n"
      ],
      "metadata": {
        "colab": {
          "base_uri": "https://localhost:8080/",
          "height": 395
        },
        "id": "gtK4DfYg03Vy",
        "outputId": "6995a213-dbcf-4ca4-f106-b6a557a91317"
      },
      "execution_count": 16,
      "outputs": [
        {
          "output_type": "stream",
          "name": "stdout",
          "text": [
            "Input: I am feeling happy and grateful today.\n",
            "- joy: 62.4%\n",
            "- gratitude: 53.3%\n",
            "- excitement: 6.8%\n"
          ]
        },
        {
          "output_type": "display_data",
          "data": {
            "text/plain": [
              "<Figure size 450x320 with 1 Axes>"
            ],
            "image/png": "[encoded data removed]"
          },
          "metadata": {}
        }
      ]
    }
  ]
}